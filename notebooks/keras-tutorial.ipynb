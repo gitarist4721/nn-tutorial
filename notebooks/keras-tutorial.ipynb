{
 "cells": [
  {
   "cell_type": "code",
   "execution_count": 1,
   "metadata": {
    "collapsed": false
   },
   "outputs": [
    {
     "name": "stderr",
     "output_type": "stream",
     "text": [
      "Using Theano backend.\n"
     ]
    }
   ],
   "source": [
    "from keras.models import Sequential\n",
    "\n",
    "from keras.layers.core import Dense\n",
    "\n",
    "from keras.optimizers import SGD"
   ]
  },
  {
   "cell_type": "code",
   "execution_count": 2,
   "metadata": {
    "collapsed": false
   },
   "outputs": [],
   "source": [
    "from keras.datasets import mnist\n",
    "(X_train, y_train), (X_test, y_test) = mnist.load_data()"
   ]
  },
  {
   "cell_type": "code",
   "execution_count": 3,
   "metadata": {
    "collapsed": true
   },
   "outputs": [],
   "source": [
    "X_train = X_train.reshape(60000, 784)\n",
    "X_test = X_test.reshape(10000, 784)"
   ]
  },
  {
   "cell_type": "code",
   "execution_count": 4,
   "metadata": {
    "collapsed": true
   },
   "outputs": [],
   "source": [
    "model = Sequential()"
   ]
  },
  {
   "cell_type": "code",
   "execution_count": 5,
   "metadata": {
    "collapsed": false
   },
   "outputs": [],
   "source": [
    "model.add(Dense(input_dim=X_train.shape[1],\n",
    "                output_dim = 50,\n",
    "                init =   'uniform',\n",
    "                activation = 'tanh'))"
   ]
  },
  {
   "cell_type": "code",
   "execution_count": 6,
   "metadata": {
    "collapsed": false
   },
   "outputs": [],
   "source": [
    "from keras.layers.core import Activation\n",
    "from keras.layers.core import Dropout\n",
    "\n",
    "model.add(Dense(50, init='uniform'))\n",
    "model.add(Activation('tanh'))\n",
    "model.add(Dropout(0.5))\n",
    "model.add(Dense(50, init='uniform'))\n",
    "model.add(Activation('relu'))"
   ]
  },
  {
   "cell_type": "code",
   "execution_count": 7,
   "metadata": {
    "collapsed": true
   },
   "outputs": [],
   "source": [
    "from keras.utils.np_utils import to_categorical\n",
    "y_train_ohe = to_categorical(y_train)\n"
   ]
  },
  {
   "cell_type": "code",
   "execution_count": 8,
   "metadata": {
    "collapsed": false
   },
   "outputs": [],
   "source": [
    "model.add(Dense(10, init='uniform'))\n",
    "model.add(Activation('softmax'))"
   ]
  },
  {
   "cell_type": "code",
   "execution_count": 9,
   "metadata": {
    "collapsed": true
   },
   "outputs": [],
   "source": [
    "sgd = SGD(lr=0.001, decay=1e-6, momentum=0.9, nesterov=True)"
   ]
  },
  {
   "cell_type": "code",
   "execution_count": 10,
   "metadata": {
    "collapsed": true
   },
   "outputs": [],
   "source": [
    "model.compile(loss = 'categorical_crossentropy',\n",
    "              optimizer = sgd)"
   ]
  },
  {
   "cell_type": "code",
   "execution_count": null,
   "metadata": {
    "collapsed": false
   },
   "outputs": [
    {
     "name": "stdout",
     "output_type": "stream",
     "text": [
      "Train on 54000 samples, validate on 6000 samples\n",
      "Epoch 1/50\n",
      "54000/54000 [==============================] - 1s - loss: 2.3020 - val_loss: 2.3013\n",
      "Epoch 2/50\n",
      "54000/54000 [==============================] - 1s - loss: 2.3005 - val_loss: 2.2997\n",
      "Epoch 3/50\n",
      "54000/54000 [==============================] - 1s - loss: 2.2989 - val_loss: 2.2979\n",
      "Epoch 4/50\n",
      "54000/54000 [==============================] - 1s - loss: 2.2969 - val_loss: 2.2955\n",
      "Epoch 5/50\n",
      "54000/54000 [==============================] - 1s - loss: 2.2943 - val_loss: 2.2922\n",
      "Epoch 6/50\n",
      "54000/54000 [==============================] - 1s - loss: 2.2908 - val_loss: 2.2876\n",
      "Epoch 7/50\n",
      "54000/54000 [==============================] - 1s - loss: 2.2856 - val_loss: 2.2808\n",
      "Epoch 8/50\n",
      "54000/54000 [==============================] - 1s - loss: 2.2773 - val_loss: 2.2698\n",
      "Epoch 9/50\n",
      "54000/54000 [==============================] - 1s - loss: 2.2634 - val_loss: 2.2511\n",
      "Epoch 10/50\n",
      "54000/54000 [==============================] - 1s - loss: 2.2386 - val_loss: 2.2177\n",
      "Epoch 11/50\n",
      "54000/54000 [==============================] - 1s - loss: 2.1934 - val_loss: 2.1591\n",
      "Epoch 12/50\n",
      "54000/54000 [==============================] - 1s - loss: 2.1212 - val_loss: 2.0723\n",
      "Epoch 13/50\n",
      "54000/54000 [==============================] - 1s - loss: 2.0301 - val_loss: 1.9729\n",
      "Epoch 14/50\n",
      "54000/54000 [==============================] - 1s - loss: 1.9271 - val_loss: 1.8478\n",
      "Epoch 15/50\n",
      "54000/54000 [==============================] - 1s - loss: 1.7928 - val_loss: 1.6822\n",
      "Epoch 16/50\n",
      "54000/54000 [==============================] - 1s - loss: 1.6340 - val_loss: 1.5090\n",
      "Epoch 17/50\n",
      "54000/54000 [==============================] - 1s - loss: 1.4865 - val_loss: 1.3633\n",
      "Epoch 18/50\n",
      "54000/54000 [==============================] - 1s - loss: 1.3599 - val_loss: 1.2354\n",
      "Epoch 19/50\n",
      "54000/54000 [==============================] - 1s - loss: 1.2457 - val_loss: 1.1153\n",
      "Epoch 20/50\n",
      "54000/54000 [==============================] - 1s - loss: 1.1433 - val_loss: 1.0100\n",
      "Epoch 21/50\n",
      "54000/54000 [==============================] - 1s - loss: 1.0577 - val_loss: 0.9326\n",
      "Epoch 22/50\n",
      "54000/54000 [==============================] - 1s - loss: 0.9816 - val_loss: 0.8530\n",
      "Epoch 23/50\n",
      "54000/54000 [==============================] - 1s - loss: 0.9175 - val_loss: 0.7861\n",
      "Epoch 24/50\n",
      "54000/54000 [==============================] - 1s - loss: 0.8608 - val_loss: 0.7297\n",
      "Epoch 25/50\n",
      "54000/54000 [==============================] - 1s - loss: 0.8143 - val_loss: 0.6837\n",
      "Epoch 26/50\n",
      "54000/54000 [==============================] - 1s - loss: 0.7710 - val_loss: 0.6333\n",
      "Epoch 27/50\n",
      "54000/54000 [==============================] - 1s - loss: 0.7321 - val_loss: 0.6104\n",
      "Epoch 28/50\n",
      "54000/54000 [==============================] - 1s - loss: 0.7035 - val_loss: 0.5603\n",
      "Epoch 29/50\n",
      "54000/54000 [==============================] - 1s - loss: 0.6721 - val_loss: 0.5393\n",
      "Epoch 30/50\n",
      "54000/54000 [==============================] - 1s - loss: 0.6478 - val_loss: 0.5073\n",
      "Epoch 31/50\n",
      "54000/54000 [==============================] - 1s - loss: 0.6274 - val_loss: 0.5038\n",
      "Epoch 32/50\n",
      "54000/54000 [==============================] - 1s - loss: 0.6045 - val_loss: 0.4762\n",
      "Epoch 33/50\n",
      "54000/54000 [==============================] - 1s - loss: 0.5929 - val_loss: 0.4658\n",
      "Epoch 34/50\n",
      "54000/54000 [==============================] - 1s - loss: 0.5697 - val_loss: 0.4499\n",
      "Epoch 35/50\n",
      "54000/54000 [==============================] - 1s - loss: 0.5529 - val_loss: 0.4208\n",
      "Epoch 36/50\n",
      "54000/54000 [==============================] - 1s - loss: 0.5321 - val_loss: 0.4044\n",
      "Epoch 37/50\n",
      "54000/54000 [==============================] - 1s - loss: 0.5225 - val_loss: 0.4015\n",
      "Epoch 38/50\n",
      "54000/54000 [==============================] - 1s - loss: 0.5046 - val_loss: 0.3755\n",
      "Epoch 39/50\n",
      "54000/54000 [==============================] - 1s - loss: 0.4995 - val_loss: 0.3730\n",
      "Epoch 40/50\n",
      "54000/54000 [==============================] - 1s - loss: 0.4859 - val_loss: 0.3565\n",
      "Epoch 41/50\n",
      "54000/54000 [==============================] - 1s - loss: 0.4783 - val_loss: 0.3588\n",
      "Epoch 42/50\n",
      "54000/54000 [==============================] - 1s - loss: 0.4642 - val_loss: 0.3326\n",
      "Epoch 43/50\n",
      "54000/54000 [==============================] - 1s - loss: 0.4479 - val_loss: 0.3332\n",
      "Epoch 44/50\n",
      "54000/54000 [==============================] - 1s - loss: 0.4441 - val_loss: 0.3314\n",
      "Epoch 45/50\n",
      "54000/54000 [==============================] - 1s - loss: 0.4328 - val_loss: 0.3152\n",
      "Epoch 46/50\n",
      "54000/54000 [==============================] - 1s - loss: 0.4208 - val_loss: 0.3020\n",
      "Epoch 47/50\n",
      "54000/54000 [==============================] - 1s - loss: 0.4266 - val_loss: 0.3165\n",
      "Epoch 48/50\n",
      "54000/54000 [==============================] - 1s - loss: 0.4212 - val_loss: 0.3064\n",
      "Epoch 49/50\n",
      "54000/54000 [==============================] - 1s - loss: 0.4101 - val_loss: 0.2942\n",
      "Epoch 50/50\n",
      "54000/54000 [==============================] - 1s - loss: 0.4038 - val_loss: 0.2971\n"
     ]
    },
    {
     "data": {
      "text/plain": [
       "<keras.callbacks.History at 0x10e129990>"
      ]
     },
     "execution_count": 11,
     "metadata": {},
     "output_type": "execute_result"
    }
   ],
   "source": [
    "model.fit(X_train,\n",
    "          y_train_ohe,\n",
    "          nb_epoch = 50,\n",
    "          batch_size = 500,\n",
    "          validation_split = 0.1,\n",
    "          verbose = 1)"
   ]
  },
  {
   "cell_type": "code",
   "execution_count": null,
   "metadata": {
    "collapsed": false
   },
   "outputs": [
    {
     "name": "stdout",
     "output_type": "stream",
     "text": [
      " 3040/10000 [========>.....................] - ETA: 0s"
     ]
    }
   ],
   "source": [
    "y_test_predictions = model.predict_classes(X_test, verbose = 1)"
   ]
  },
  {
   "cell_type": "code",
   "execution_count": null,
   "metadata": {
    "collapsed": false
   },
   "outputs": [],
   "source": [
    "import numpy as np\n",
    "correct = np.sum(y_test_predictions ==  y_test)\n",
    "print ('Test Accuracy: %.2f%%' % (correct/float(y_test.shape[0])*100.0) )"
   ]
  },
  {
   "cell_type": "code",
   "execution_count": null,
   "metadata": {
    "collapsed": false
   },
   "outputs": [],
   "source": []
  },
  {
   "cell_type": "code",
   "execution_count": null,
   "metadata": {
    "collapsed": true
   },
   "outputs": [],
   "source": []
  },
  {
   "cell_type": "code",
   "execution_count": null,
   "metadata": {
    "collapsed": true
   },
   "outputs": [],
   "source": []
  }
 ],
 "metadata": {
  "kernelspec": {
   "display_name": "Python 2",
   "language": "python",
   "name": "python2"
  },
  "language_info": {
   "codemirror_mode": {
    "name": "ipython",
    "version": 2
   },
   "file_extension": ".py",
   "mimetype": "text/x-python",
   "name": "python",
   "nbconvert_exporter": "python",
   "pygments_lexer": "ipython2",
   "version": "2.7.11"
  }
 },
 "nbformat": 4,
 "nbformat_minor": 0
}
