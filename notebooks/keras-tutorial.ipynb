{
 "cells": [
  {
   "cell_type": "code",
   "execution_count": 1,
   "metadata": {
    "collapsed": false
   },
   "outputs": [
    {
     "name": "stderr",
     "output_type": "stream",
     "text": [
      "Using Theano backend.\n"
     ]
    }
   ],
   "source": [
    "from keras.models import Sequential\n",
    "\n",
    "from keras.layers.core import Dense\n",
    "\n",
    "from keras.optimizers import SGD"
   ]
  },
  {
   "cell_type": "code",
   "execution_count": 2,
   "metadata": {
    "collapsed": false
   },
   "outputs": [],
   "source": [
    "from keras.datasets import mnist\n",
    "(X_train, y_train), (X_test, y_test) = mnist.load_data()"
   ]
  },
  {
   "cell_type": "code",
   "execution_count": 3,
   "metadata": {
    "collapsed": true
   },
   "outputs": [],
   "source": [
    "X_train = X_train.reshape(60000, 784)\n",
    "X_test = X_test.reshape(10000, 784)"
   ]
  },
  {
   "cell_type": "code",
   "execution_count": 4,
   "metadata": {
    "collapsed": true
   },
   "outputs": [],
   "source": [
    "model = Sequential()"
   ]
  },
  {
   "cell_type": "code",
   "execution_count": 5,
   "metadata": {
    "collapsed": false
   },
   "outputs": [],
   "source": [
    "model.add(Dense(input_dim=X_train.shape[1],\n",
    "                output_dim = 50,\n",
    "                init =   'uniform',\n",
    "                activation = 'tanh'))"
   ]
  },
  {
   "cell_type": "code",
   "execution_count": 6,
   "metadata": {
    "collapsed": false
   },
   "outputs": [],
   "source": [
    "from keras.layers.core import Activation\n",
    "from keras.layers.core import Dropout\n",
    "\n",
    "model.add(Dense(50, init='uniform'))\n",
    "model.add(Activation('tanh'))\n",
    "model.add(Dropout(0.5))\n",
    "model.add(Dense(50, init='uniform'))\n",
    "model.add(Activation('relu'))"
   ]
  },
  {
   "cell_type": "code",
   "execution_count": 7,
   "metadata": {
    "collapsed": true
   },
   "outputs": [],
   "source": [
    "from keras.utils.np_utils import to_categorical\n",
    "y_train_ohe = to_categorical(y_train)\n"
   ]
  },
  {
   "cell_type": "code",
   "execution_count": 8,
   "metadata": {
    "collapsed": false
   },
   "outputs": [],
   "source": [
    "model.add(Dense(10, init='uniform'))\n",
    "model.add(Activation('softmax'))"
   ]
  },
  {
   "cell_type": "code",
   "execution_count": 9,
   "metadata": {
    "collapsed": true
   },
   "outputs": [],
   "source": [
    "sgd = SGD(lr=0.001, decay=1e-6, momentum=0.9, nesterov=True)"
   ]
  },
  {
   "cell_type": "code",
   "execution_count": 10,
   "metadata": {
    "collapsed": true
   },
   "outputs": [],
   "source": [
    "model.compile(loss = 'categorical_crossentropy',\n",
    "              optimizer = sgd)"
   ]
  },
  {
   "cell_type": "code",
   "execution_count": 12,
   "metadata": {
    "collapsed": false
   },
   "outputs": [
    {
     "name": "stdout",
     "output_type": "stream",
     "text": [
      "Train on 54000 samples, validate on 6000 samples\n",
      "Epoch 1/50\n",
      "54000/54000 [==============================] - 1s - loss: 2.3022 - val_loss: 2.3017\n",
      "Epoch 2/50\n",
      "54000/54000 [==============================] - 1s - loss: 2.3009 - val_loss: 2.3003\n",
      "Epoch 3/50\n",
      "54000/54000 [==============================] - 1s - loss: 2.2995 - val_loss: 2.2987\n",
      "Epoch 4/50\n",
      "54000/54000 [==============================] - 1s - loss: 2.2978 - val_loss: 2.2967\n",
      "Epoch 5/50\n",
      "54000/54000 [==============================] - 1s - loss: 2.2957 - val_loss: 2.2941\n",
      "Epoch 6/50\n",
      "54000/54000 [==============================] - 1s - loss: 2.2926 - val_loss: 2.2903\n",
      "Epoch 7/50\n",
      "54000/54000 [==============================] - 1s - loss: 2.2883 - val_loss: 2.2847\n",
      "Epoch 8/50\n",
      "54000/54000 [==============================] - 1s - loss: 2.2818 - val_loss: 2.2760\n",
      "Epoch 9/50\n",
      "54000/54000 [==============================] - 1s - loss: 2.2710 - val_loss: 2.2616\n",
      "Epoch 10/50\n",
      "54000/54000 [==============================] - 1s - loss: 2.2521 - val_loss: 2.2362\n",
      "Epoch 11/50\n",
      "54000/54000 [==============================] - 1s - loss: 2.2192 - val_loss: 2.1922\n",
      "Epoch 12/50\n",
      "54000/54000 [==============================] - 1s - loss: 2.1661 - val_loss: 2.1265\n",
      "Epoch 13/50\n",
      "54000/54000 [==============================] - 1s - loss: 2.0961 - val_loss: 2.0495\n",
      "Epoch 14/50\n",
      "54000/54000 [==============================] - 1s - loss: 2.0220 - val_loss: 1.9738\n",
      "Epoch 15/50\n",
      "54000/54000 [==============================] - 1s - loss: 1.9486 - val_loss: 1.8971\n",
      "Epoch 16/50\n",
      "54000/54000 [==============================] - 1s - loss: 1.8709 - val_loss: 1.8094\n",
      "Epoch 17/50\n",
      "54000/54000 [==============================] - 1s - loss: 1.7765 - val_loss: 1.6938\n",
      "Epoch 18/50\n",
      "54000/54000 [==============================] - 1s - loss: 1.6580 - val_loss: 1.5577\n",
      "Epoch 19/50\n",
      "54000/54000 [==============================] - 1s - loss: 1.5267 - val_loss: 1.4183\n",
      "Epoch 20/50\n",
      "54000/54000 [==============================] - 1s - loss: 1.4029 - val_loss: 1.2960\n",
      "Epoch 21/50\n",
      "54000/54000 [==============================] - 1s - loss: 1.2942 - val_loss: 1.1857\n",
      "Epoch 22/50\n",
      "54000/54000 [==============================] - 1s - loss: 1.1986 - val_loss: 1.0867\n",
      "Epoch 23/50\n",
      "54000/54000 [==============================] - 1s - loss: 1.1161 - val_loss: 1.0064\n",
      "Epoch 24/50\n",
      "54000/54000 [==============================] - 1s - loss: 1.0415 - val_loss: 0.9328\n",
      "Epoch 25/50\n",
      "54000/54000 [==============================] - 1s - loss: 0.9785 - val_loss: 0.8597\n",
      "Epoch 26/50\n",
      "54000/54000 [==============================] - 1s - loss: 0.9189 - val_loss: 0.7919\n",
      "Epoch 27/50\n",
      "54000/54000 [==============================] - 1s - loss: 0.8591 - val_loss: 0.7383\n",
      "Epoch 28/50\n",
      "54000/54000 [==============================] - 1s - loss: 0.8021 - val_loss: 0.6840\n",
      "Epoch 29/50\n",
      "54000/54000 [==============================] - 1s - loss: 0.7495 - val_loss: 0.6203\n",
      "Epoch 30/50\n",
      "54000/54000 [==============================] - 1s - loss: 0.7038 - val_loss: 0.5707\n",
      "Epoch 31/50\n",
      "54000/54000 [==============================] - 1s - loss: 0.6661 - val_loss: 0.5342\n",
      "Epoch 32/50\n",
      "54000/54000 [==============================] - 1s - loss: 0.6350 - val_loss: 0.5070\n",
      "Epoch 33/50\n",
      "54000/54000 [==============================] - 1s - loss: 0.6124 - val_loss: 0.4769\n",
      "Epoch 34/50\n",
      "54000/54000 [==============================] - 1s - loss: 0.5862 - val_loss: 0.4487\n",
      "Epoch 35/50\n",
      "54000/54000 [==============================] - 1s - loss: 0.5667 - val_loss: 0.4444\n",
      "Epoch 36/50\n",
      "54000/54000 [==============================] - 1s - loss: 0.5511 - val_loss: 0.4246\n",
      "Epoch 37/50\n",
      "54000/54000 [==============================] - 1s - loss: 0.5357 - val_loss: 0.4067\n",
      "Epoch 38/50\n",
      "54000/54000 [==============================] - 1s - loss: 0.5220 - val_loss: 0.3992\n",
      "Epoch 39/50\n",
      "54000/54000 [==============================] - 1s - loss: 0.5178 - val_loss: 0.3871\n",
      "Epoch 40/50\n",
      "54000/54000 [==============================] - 1s - loss: 0.5054 - val_loss: 0.3907\n",
      "Epoch 41/50\n",
      "54000/54000 [==============================] - 1s - loss: 0.5053 - val_loss: 0.3678\n",
      "Epoch 42/50\n",
      "54000/54000 [==============================] - 1s - loss: 0.4862 - val_loss: 0.3644\n",
      "Epoch 43/50\n",
      "54000/54000 [==============================] - 1s - loss: 0.4723 - val_loss: 0.3492\n",
      "Epoch 44/50\n",
      "54000/54000 [==============================] - 1s - loss: 0.4631 - val_loss: 0.3471\n",
      "Epoch 45/50\n",
      "54000/54000 [==============================] - 1s - loss: 0.4456 - val_loss: 0.3281\n",
      "Epoch 46/50\n",
      "54000/54000 [==============================] - 1s - loss: 0.4447 - val_loss: 0.3330\n",
      "Epoch 47/50\n",
      "54000/54000 [==============================] - 1s - loss: 0.4380 - val_loss: 0.3229\n",
      "Epoch 48/50\n",
      "54000/54000 [==============================] - 1s - loss: 0.4379 - val_loss: 0.3153\n",
      "Epoch 49/50\n",
      "54000/54000 [==============================] - 1s - loss: 0.4309 - val_loss: 0.3241\n",
      "Epoch 50/50\n",
      "54000/54000 [==============================] - 1s - loss: 0.4304 - val_loss: 0.3154\n"
     ]
    },
    {
     "data": {
      "text/plain": [
       "<keras.callbacks.History at 0x10dfeebd0>"
      ]
     },
     "execution_count": 12,
     "metadata": {},
     "output_type": "execute_result"
    }
   ],
   "source": [
    "model.fit(X_train,\n",
    "          y_train_ohe,\n",
    "          nb_epoch = 50,\n",
    "          batch_size = 500,\n",
    "          validation_split = 0.1,\n",
    "          verbose = 1)"
   ]
  },
  {
   "cell_type": "code",
   "execution_count": 13,
   "metadata": {
    "collapsed": false
   },
   "outputs": [
    {
     "name": "stdout",
     "output_type": "stream",
     "text": [
      "10000/10000 [==============================] - 0s     \n"
     ]
    }
   ],
   "source": [
    "y_test_predictions = model.predict_classes(X_test, verbose = 1)"
   ]
  },
  {
   "cell_type": "code",
   "execution_count": 15,
   "metadata": {
    "collapsed": false
   },
   "outputs": [
    {
     "ename": "InvocationException",
     "evalue": "Program terminated with status: -5. stderr follows: dyld: Library not loaded: /usr/lib/libltdl.7.dylib\n  Referenced from: /Users/ozgun/anaconda/bin/dot\n  Reason: image not found\n",
     "output_type": "error",
     "traceback": [
      "\u001b[0;31m---------------------------------------------------------------------------\u001b[0m",
      "\u001b[0;31mInvocationException\u001b[0m                       Traceback (most recent call last)",
      "\u001b[0;32m<ipython-input-15-e4ccf21ac9ce>\u001b[0m in \u001b[0;36m<module>\u001b[0;34m()\u001b[0m\n\u001b[1;32m      1\u001b[0m \u001b[0;32mfrom\u001b[0m \u001b[0mkeras\u001b[0m\u001b[0;34m.\u001b[0m\u001b[0mutils\u001b[0m\u001b[0;34m.\u001b[0m\u001b[0mvisualize_util\u001b[0m \u001b[0;32mimport\u001b[0m \u001b[0mplot\u001b[0m\u001b[0;34m\u001b[0m\u001b[0m\n\u001b[0;32m----> 2\u001b[0;31m \u001b[0mplot\u001b[0m\u001b[0;34m(\u001b[0m\u001b[0mmodel\u001b[0m\u001b[0;34m,\u001b[0m \u001b[0mto_file\u001b[0m\u001b[0;34m=\u001b[0m\u001b[0;34m'model.png'\u001b[0m\u001b[0;34m)\u001b[0m\u001b[0;34m\u001b[0m\u001b[0m\n\u001b[0m",
      "\u001b[0;32m/Users/ozgun/anaconda/lib/python2.7/site-packages/keras/utils/visualize_util.pyc\u001b[0m in \u001b[0;36mplot\u001b[0;34m(model, to_file, show_shapes)\u001b[0m\n\u001b[1;32m     62\u001b[0m \u001b[0;32mdef\u001b[0m \u001b[0mplot\u001b[0m\u001b[0;34m(\u001b[0m\u001b[0mmodel\u001b[0m\u001b[0;34m,\u001b[0m \u001b[0mto_file\u001b[0m\u001b[0;34m=\u001b[0m\u001b[0;34m'model.png'\u001b[0m\u001b[0;34m,\u001b[0m \u001b[0mshow_shapes\u001b[0m\u001b[0;34m=\u001b[0m\u001b[0mFalse\u001b[0m\u001b[0;34m)\u001b[0m\u001b[0;34m:\u001b[0m\u001b[0;34m\u001b[0m\u001b[0m\n\u001b[1;32m     63\u001b[0m     \u001b[0mdot\u001b[0m \u001b[0;34m=\u001b[0m \u001b[0mmodel_to_dot\u001b[0m\u001b[0;34m(\u001b[0m\u001b[0mmodel\u001b[0m\u001b[0;34m,\u001b[0m \u001b[0mshow_shapes\u001b[0m\u001b[0;34m)\u001b[0m\u001b[0;34m\u001b[0m\u001b[0m\n\u001b[0;32m---> 64\u001b[0;31m     \u001b[0mdot\u001b[0m\u001b[0;34m.\u001b[0m\u001b[0mwrite_png\u001b[0m\u001b[0;34m(\u001b[0m\u001b[0mto_file\u001b[0m\u001b[0;34m)\u001b[0m\u001b[0;34m\u001b[0m\u001b[0m\n\u001b[0m",
      "\u001b[0;32m/Users/ozgun/anaconda/lib/python2.7/site-packages/pydot.pyc\u001b[0m in \u001b[0;36m<lambda>\u001b[0;34m(path, f, prog)\u001b[0m\n\u001b[1;32m   1807\u001b[0m             self.__setattr__(\n\u001b[1;32m   1808\u001b[0m                 \u001b[0;34m'write_'\u001b[0m\u001b[0;34m+\u001b[0m\u001b[0mfrmt\u001b[0m\u001b[0;34m,\u001b[0m\u001b[0;34m\u001b[0m\u001b[0m\n\u001b[0;32m-> 1809\u001b[0;31m                 lambda path, f=frmt, prog=self.prog : self.write(path, format=f, prog=prog))\n\u001b[0m\u001b[1;32m   1810\u001b[0m \u001b[0;34m\u001b[0m\u001b[0m\n\u001b[1;32m   1811\u001b[0m             \u001b[0mf\u001b[0m \u001b[0;34m=\u001b[0m \u001b[0mself\u001b[0m\u001b[0;34m.\u001b[0m\u001b[0m__dict__\u001b[0m\u001b[0;34m[\u001b[0m\u001b[0;34m'write_'\u001b[0m\u001b[0;34m+\u001b[0m\u001b[0mfrmt\u001b[0m\u001b[0;34m]\u001b[0m\u001b[0;34m\u001b[0m\u001b[0m\n",
      "\u001b[0;32m/Users/ozgun/anaconda/lib/python2.7/site-packages/pydot.pyc\u001b[0m in \u001b[0;36mwrite\u001b[0;34m(self, path, prog, format)\u001b[0m\n\u001b[1;32m   1909\u001b[0m             \u001b[0mdot_fd\u001b[0m\u001b[0;34m.\u001b[0m\u001b[0mwrite\u001b[0m\u001b[0;34m(\u001b[0m\u001b[0mdata\u001b[0m\u001b[0;34m)\u001b[0m\u001b[0;34m\u001b[0m\u001b[0m\n\u001b[1;32m   1910\u001b[0m         \u001b[0;32melse\u001b[0m\u001b[0;34m:\u001b[0m\u001b[0;34m\u001b[0m\u001b[0m\n\u001b[0;32m-> 1911\u001b[0;31m             \u001b[0mdot_fd\u001b[0m\u001b[0;34m.\u001b[0m\u001b[0mwrite\u001b[0m\u001b[0;34m(\u001b[0m\u001b[0mself\u001b[0m\u001b[0;34m.\u001b[0m\u001b[0mcreate\u001b[0m\u001b[0;34m(\u001b[0m\u001b[0mprog\u001b[0m\u001b[0;34m,\u001b[0m \u001b[0mformat\u001b[0m\u001b[0;34m)\u001b[0m\u001b[0;34m)\u001b[0m\u001b[0;34m\u001b[0m\u001b[0m\n\u001b[0m\u001b[1;32m   1912\u001b[0m         \u001b[0mdot_fd\u001b[0m\u001b[0;34m.\u001b[0m\u001b[0mclose\u001b[0m\u001b[0;34m(\u001b[0m\u001b[0;34m)\u001b[0m\u001b[0;34m\u001b[0m\u001b[0m\n\u001b[1;32m   1913\u001b[0m \u001b[0;34m\u001b[0m\u001b[0m\n",
      "\u001b[0;32m/Users/ozgun/anaconda/lib/python2.7/site-packages/pydot.pyc\u001b[0m in \u001b[0;36mcreate\u001b[0;34m(self, prog, format)\u001b[0m\n\u001b[1;32m   2021\u001b[0m             raise InvocationException(\n\u001b[1;32m   2022\u001b[0m                 'Program terminated with status: %d. stderr follows: %s' % (\n\u001b[0;32m-> 2023\u001b[0;31m                     status, stderr_output) )\n\u001b[0m\u001b[1;32m   2024\u001b[0m         \u001b[0;32melif\u001b[0m \u001b[0mstderr_output\u001b[0m\u001b[0;34m:\u001b[0m\u001b[0;34m\u001b[0m\u001b[0m\n\u001b[1;32m   2025\u001b[0m             \u001b[0;32mprint\u001b[0m \u001b[0mstderr_output\u001b[0m\u001b[0;34m\u001b[0m\u001b[0m\n",
      "\u001b[0;31mInvocationException\u001b[0m: Program terminated with status: -5. stderr follows: dyld: Library not loaded: /usr/lib/libltdl.7.dylib\n  Referenced from: /Users/ozgun/anaconda/bin/dot\n  Reason: image not found\n"
     ]
    }
   ],
   "source": [
    "import numpy as np\n",
    "correct = np.sum(y_test_predictions ==  y_test)\n",
    "print ('Test Accuracy: %.2f%%' % (correct/float(y_test.shape[0])*100.0) )"
   ]
  },
  {
   "cell_type": "code",
   "execution_count": null,
   "metadata": {
    "collapsed": false
   },
   "outputs": [],
   "source": []
  },
  {
   "cell_type": "code",
   "execution_count": null,
   "metadata": {
    "collapsed": true
   },
   "outputs": [],
   "source": []
  },
  {
   "cell_type": "code",
   "execution_count": null,
   "metadata": {
    "collapsed": true
   },
   "outputs": [],
   "source": []
  }
 ],
 "metadata": {
  "kernelspec": {
   "display_name": "Python 2",
   "language": "python",
   "name": "python2"
  },
  "language_info": {
   "codemirror_mode": {
    "name": "ipython",
    "version": 2
   },
   "file_extension": ".py",
   "mimetype": "text/x-python",
   "name": "python",
   "nbconvert_exporter": "python",
   "pygments_lexer": "ipython2",
   "version": "2.7.11"
  }
 },
 "nbformat": 4,
 "nbformat_minor": 0
}
